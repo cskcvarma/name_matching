{
 "cells": [
  {
   "cell_type": "code",
   "execution_count": null,
   "id": "5a281bd7",
   "metadata": {},
   "outputs": [
    {
     "name": "stderr",
     "output_type": "stream",
     "text": [
      "/Users/pheonix/Work/JPMC/name_matching/.venv/lib/python3.12/site-packages/tqdm/auto.py:21: TqdmWarning: IProgress not found. Please update jupyter and ipywidgets. See https://ipywidgets.readthedocs.io/en/stable/user_install.html\n",
      "  from .autonotebook import tqdm as notebook_tqdm\n"
     ]
    },
    {
     "name": "stdout",
     "output_type": "stream",
     "text": [
      "Loading SentenceTransformer model...\n",
      "Generating embeddings for sample company names...\n",
      "Building HNSW index with 46 embeddings...\n",
      "HNSW index built.\n",
      "Extracting up to 5 connections per node for visualization...\n",
      "Added 45 connections to the visualization.\n",
      "hnsw_company_network_visualization.html\n"
     ]
    },
    {
     "name": "stderr",
     "output_type": "stream",
     "text": [
      "/var/folders/v8/3p0qlbcn7p76nfxhrgrm8d5c0000gn/T/ipykernel_85776/1266014193.py:106: RuntimeWarning: overflow encountered in scalar subtract\n",
      "  similarity = float(1 - distances[0][j])\n"
     ]
    },
    {
     "data": {
      "text/html": [
       "\n",
       "        <iframe\n",
       "            width=\"100%\"\n",
       "            height=\"750px\"\n",
       "            src=\"hnsw_company_network_visualization.html\"\n",
       "            frameborder=\"0\"\n",
       "            allowfullscreen\n",
       "            \n",
       "        ></iframe>\n",
       "        "
      ],
      "text/plain": [
       "<IPython.lib.display.IFrame at 0x149c4ea50>"
      ]
     },
     "execution_count": 1,
     "metadata": {},
     "output_type": "execute_result"
    }
   ],
   "source": [
    "import hnswlib\n",
    "import numpy as np\n",
    "from sentence_transformers import SentenceTransformer\n",
    "from pyvis.network import Network\n",
    "import random\n",
    "\n",
    "# --- 1. Simulate Company Data and Embeddings (Replace with your actual data) ---\n",
    "# In a real scenario, you would load your 200M company names and their embeddings.\n",
    "# For visualization, we create a small, representative sample.\n"
   ]
  },
  {
   "cell_type": "code",
   "execution_count": null,
   "id": "2c13d857",
   "metadata": {},
   "outputs": [],
   "source": [
    "\n",
    "company_names_sample = [\n",
    "    \"Google LLC\", \"Alphabet Inc.\", \"Google Inc.\", \"Microsoft Corporation\",\n",
    "    \"Microsft Corp.\", \"Apple Inc.\", \"Apple Computers LLC\", \"Amazon.com Inc.\",\n",
    "    \"International Business Machines\", \"IBM Corp.\", \"The Coca-Cola Company\",\n",
    "    \"PepsiCo Inc.\", \"ExxonMobil Corporation\", \"Shell Global\", \"BP p.l.c.\",\n",
    "    \"Siemens AG\", \"Bosch GmbH\", \"General Electric Co.\", \"GE Power\",\n",
    "    \"Walmart Inc.\", \"Target Corporation\", \"Costco Wholesale Corp.\", \"NVIDIA Corp.\",\n",
    "    \"Advanced Micro Devices Inc.\", \"Intel Corporation\", \"Oracle Corp.\",\n",
    "    \"SAP SE\", \"Accenture plc\", \"Deloitte Touche Tohmatsu Limited\",\n",
    "    \"PricewaterhouseCoopers LLP\", \"Ernst & Young Global Limited\",\n",
    "    \"Goldman Sachs Group Inc.\", \"JPMorgan Chase & Co.\", \"Bank of America Corp.\",\n",
    "    \"Wells Fargo & Company\", \"Johnson & Johnson\", \"Pfizer Inc.\",\n",
    "    \"Novartis AG\", \"Roche Holding AG\", \"Sanofi S.A.\", \"T-Mobile US Inc.\",\n",
    "    \"Verizon Communications Inc.\", \"AT&T Inc.\", \"Samsung Electronics Co. Ltd.\",\n",
    "    \"Sony Group Corporation\", \"LG Electronics Inc.\"\n",
    "]\n",
    "\n",
    "# Get embeddings using a SentenceTransformer model (similar to OpenAI's output)\n",
    "print(\"Loading SentenceTransformer model...\")\n",
    "model = SentenceTransformer('all-MiniLM-L6-v2') # A fast, small model for demo\n",
    "print(\"Generating embeddings for sample company names...\")\n",
    "embeddings = model.encode(company_names_sample, convert_to_numpy=True)\n",
    "embedding_dim = embeddings.shape[1]\n"
   ]
  },
  {
   "cell_type": "code",
   "execution_count": null,
   "id": "f10a26be",
   "metadata": {},
   "outputs": [],
   "source": [
    "\n",
    "# Create a mapping from internal HNSW ID to original company name\n",
    "id_to_name = {i: name for i, name in enumerate(company_names_sample)}\n",
    "name_to_id = {name: i for i, name in enumerate(company_names_sample)}\n",
    "\n",
    "# --- 2. Build a Small HNSW Index (Conceptualizing your 200M index) ---\n",
    "# In your real system, this index would be pre-built and loaded.\n",
    "print(f\"Building HNSW index with {len(company_names_sample)} embeddings...\")\n",
    "num_elements = len(company_names_sample)\n",
    "hnsw_index = hnswlib.Index(space='cosine', dim=embedding_dim) # 'cosine' is good for OpenAI embeddings\n",
    "hnsw_index.init_index(max_elements=num_elements, ef_construction=200, M=16) # Adjust M and ef_construction as needed\n",
    "hnsw_index.add_items(embeddings, np.arange(num_elements, dtype=np.int32))\n",
    "print(\"HNSW index built.\")\n"
   ]
  },
  {
   "cell_type": "code",
   "execution_count": null,
   "id": "02000ab2",
   "metadata": {},
   "outputs": [],
   "source": [
    "\n",
    "# --- 3. Extract Connections for Visualization ---\n",
    "num_neighbors_to_visualize = 5\n",
    "\n",
    "net = Network(notebook=True, height=\"750px\", width=\"100%\", directed=False, cdn_resources='remote')\n",
    "net.set_options(\"\"\"\n",
    "var options = {\n",
    "  \"physics\": {\n",
    "    \"barnesHut\": {\n",
    "      \"gravitationalConstant\": -20000,\n",
    "      \"centralGravity\": 0.3,\n",
    "      \"springLength\": 100,\n",
    "      \"springConstant\": 0.005,\n",
    "      \"damping\": 0.9\n",
    "    },\n",
    "    \"maxVelocity\": 50,\n",
    "    \"minVelocity\": 0.1,\n",
    "    \"solver\": \"barnesHut\",\n",
    "    \"stabilization\": {\n",
    "      \"enabled\": true,\n",
    "      \"iterations\": 1000,\n",
    "      \"updateInterval\": 25,\n",
    "      \"onlyDynamicEdges\": false,\n",
    "      \"fit\": true\n",
    "    },\n",
    "    \"timestep\": 0.5,\n",
    "    \"adaptiveTimestep\": true\n",
    "  }\n",
    "}\n",
    "\"\"\")\n",
    "\n",
    "# Add all nodes to the Pyvis graph first, ensuring IDs are standard Python integers\n",
    "# This ensures that any valid neighbor_id found later will already exist as a node\n",
    "for i, name in id_to_name.items():\n",
    "    net.add_node(i, label=name, title=name, size=15)\n",
    "\n",
    "added_edges = set()\n",
    "\n",
    "print(f\"Extracting up to {num_neighbors_to_visualize} connections per node for visualization...\")\n",
    "for i, embedding in enumerate(embeddings):\n",
    "    # hnsw_index.knn_query returns [distances], [indices]\n",
    "    distances, raw_indices_array = hnsw_index.knn_query(embedding, k=num_neighbors_to_visualize + 1)\n",
    "\n",
    "    # Convert to a list of standard Python integers, then filter.\n",
    "    # CRUCIAL FIX: Ensure `raw_indices_array` elements are valid for conversion\n",
    "    # before calling .tolist() to avoid potential errors on non-integer-like floats.\n",
    "    # The `astype(int)` ensures the conversion is clean, then tolist() for Python native types.\n",
    "    neighbor_ids = raw_indices_array[0].astype(int).tolist()\n",
    "\n",
    "    for j, neighbor_id in enumerate(neighbor_ids):\n",
    "        # Filter out self-loops, invalid HNSW filler values (-1),\n",
    "        # and ensure the ID is within the valid range of nodes we added to Pyvis.\n",
    "        if (neighbor_id == i or\n",
    "            neighbor_id == -1 or # HNSWlib sometimes returns -1 for unfound neighbors\n",
    "            not (0 <= neighbor_id < num_elements)): # Check bounds\n",
    "            continue\n",
    "\n",
    "        edge_tuple = tuple(sorted((i, neighbor_id)))\n",
    "        if edge_tuple not in added_edges:\n",
    "            similarity = float(1 - distances[0][j])\n",
    "            \n",
    "            net.add_edge(\n",
    "                i, # 'i' is already a standard Python int\n",
    "                neighbor_id, # This is now guaranteed a standard Python int\n",
    "                value=float(similarity * 10), # Ensure 'value' is a standard Python float\n",
    "                title=f\"Similarity: {similarity:.2f}\",\n",
    "                color={'color': 'blue', 'highlight': 'red'}\n",
    "            )\n",
    "            added_edges.add(edge_tuple)\n",
    "\n",
    "print(f\"Added {len(net.get_edges())} connections to the visualization.\")\n",
    "\n",
    "output_file = \"hnsw_company_network_visualization.html\"\n",
    "net.show(output_file)"
   ]
  }
 ],
 "metadata": {
  "kernelspec": {
   "display_name": ".venv",
   "language": "python",
   "name": "python3"
  },
  "language_info": {
   "codemirror_mode": {
    "name": "ipython",
    "version": 3
   },
   "file_extension": ".py",
   "mimetype": "text/x-python",
   "name": "python",
   "nbconvert_exporter": "python",
   "pygments_lexer": "ipython3",
   "version": "3.12.8"
  }
 },
 "nbformat": 4,
 "nbformat_minor": 5
}
