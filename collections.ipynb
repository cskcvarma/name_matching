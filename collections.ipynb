{
 "cells": [
  {
   "cell_type": "code",
   "execution_count": 2,
   "id": "5f7add7a",
   "metadata": {},
   "outputs": [
    {
     "data": {
      "text/plain": [
       "['names']"
      ]
     },
     "execution_count": 2,
     "metadata": {},
     "output_type": "execute_result"
    }
   ],
   "source": [
    "from name_matching.db import ChromaDB\n",
    "\n",
    "ChromaDB().list_collections()\n"
   ]
  },
  {
   "cell_type": "code",
   "execution_count": 6,
   "id": "29fce1de",
   "metadata": {},
   "outputs": [
    {
     "data": {
      "text/plain": [
       "['Tanner Jones',\n",
       " 'Susan Burgess',\n",
       " 'Holly Nelson',\n",
       " 'Angelica Kerr',\n",
       " 'Michelle Williams',\n",
       " 'Bruce Cruz',\n",
       " 'Katelyn Davis',\n",
       " 'Daniel Green',\n",
       " 'Jessica Davenport',\n",
       " 'Jason Johnson',\n",
       " 'Mark Walker',\n",
       " 'Edwin Sanchez',\n",
       " 'Virginia Myers',\n",
       " 'Patrick Morgan',\n",
       " 'Tammy Harris',\n",
       " 'Wanda Bird',\n",
       " 'Melissa James',\n",
       " 'Valerie Snyder',\n",
       " 'Kenneth Peterson',\n",
       " 'Catherine Phillips',\n",
       " 'Christina Cochran',\n",
       " 'Tracy Lindsey',\n",
       " 'Jason Brown',\n",
       " 'James Juarez',\n",
       " 'Lisa Carr',\n",
       " 'Robin Delacruz',\n",
       " 'Monica Ryan',\n",
       " 'Dan Hunter',\n",
       " 'Christopher Alexander',\n",
       " 'Alyssa Burns',\n",
       " 'Jason Anderson',\n",
       " 'Jessica Vazquez',\n",
       " 'Kristin Barton',\n",
       " 'Judith Brown',\n",
       " 'Jessica Jackson',\n",
       " 'Joseph Wolf',\n",
       " 'Thomas Bennett',\n",
       " 'Steven Hill',\n",
       " 'Alan Richards',\n",
       " 'Julia Flores',\n",
       " 'Lisa Alexander',\n",
       " 'Nicole Morgan',\n",
       " 'Herbert Roberts',\n",
       " 'Oscar Fisher',\n",
       " 'Matthew Ellis',\n",
       " 'Michael Armstrong',\n",
       " 'Jessica Reynolds',\n",
       " 'Michelle Taylor',\n",
       " 'James Chen',\n",
       " 'Lisa Hamilton',\n",
       " 'Jennifer Smith',\n",
       " 'Christopher Hayden',\n",
       " 'Linda Munoz',\n",
       " 'Matthew Anderson',\n",
       " 'Scott Norton',\n",
       " 'Nathan Sanders',\n",
       " 'Theresa Clark',\n",
       " 'Taylor Holland',\n",
       " 'Sarah Casey',\n",
       " 'Tyler Mosley',\n",
       " 'William Ramirez',\n",
       " 'Frank Michael',\n",
       " 'Laura Bennett',\n",
       " 'Dana Lee',\n",
       " 'Amy Chapman',\n",
       " 'Donald Moreno',\n",
       " 'Bruce Yates',\n",
       " 'Joseph Williams',\n",
       " 'Olivia Green',\n",
       " 'Samantha Marshall',\n",
       " 'Andrew Rogers',\n",
       " 'Mackenzie Jordan',\n",
       " 'Carol Dixon',\n",
       " 'Vincent Anderson',\n",
       " 'Theresa Phillips',\n",
       " 'Frank Moreno',\n",
       " 'Craig Johnson',\n",
       " 'Karina Nixon',\n",
       " 'Emma Murray',\n",
       " 'Nicholas Ball',\n",
       " 'Roberto Williams',\n",
       " 'Alison Griffin',\n",
       " 'Barbara Mcbride',\n",
       " 'Michelle Reed',\n",
       " 'Brittany Rivera',\n",
       " 'Scott Powell',\n",
       " 'James Jackson',\n",
       " 'Erik Fisher',\n",
       " 'Mark Parsons',\n",
       " 'Erin Hernandez',\n",
       " 'Lori Walker',\n",
       " 'Deborah King',\n",
       " 'Kimberly Powers',\n",
       " 'Carolyn Lee',\n",
       " 'Gregory Harrison',\n",
       " 'Kelly Davis',\n",
       " 'Jessica Bryan',\n",
       " 'Timothy Warner',\n",
       " 'Anthony Figueroa',\n",
       " 'Matthew Henson']"
      ]
     },
     "execution_count": 6,
     "metadata": {},
     "output_type": "execute_result"
    }
   ],
   "source": [
    "ChromaDB(collection_name='names').list_documents()"
   ]
  },
  {
   "cell_type": "code",
   "execution_count": 3,
   "id": "11c1decf",
   "metadata": {},
   "outputs": [
    {
     "name": "stdout",
     "output_type": "stream",
     "text": [
      "Nathaniel Rubio\n"
     ]
    }
   ],
   "source": [
    "from faker import Faker\n",
    "print(Faker().name()) "
   ]
  },
  {
   "cell_type": "code",
   "execution_count": 4,
   "id": "5b48c4a5",
   "metadata": {},
   "outputs": [
    {
     "name": "stdout",
     "output_type": "stream",
     "text": [
      "Loading 10 fake names into collection 'names'.\n",
      "Number of names in collection: 20\n",
      "First few names: ['Andrea King', 'Anita Delgado', 'Patrick Blair', 'Rickey Jordan', 'Peter King']\n"
     ]
    }
   ],
   "source": [
    "from name_matching.loader import load_fake_names\n",
    "from name_matching.db import ChromaDB\n",
    "\n",
    "# Load some fake names\n",
    "db = load_fake_names(10)  # Load 10 fake names\n",
    "\n",
    "# Verify the data was loaded\n",
    "print(f\"Number of names in collection: {db.count()}\")\n",
    "print(f\"First few names: {db.list_documents()[:5]}\") "
   ]
  },
  {
   "cell_type": "code",
   "execution_count": null,
   "id": "431058c1",
   "metadata": {},
   "outputs": [],
   "source": []
  }
 ],
 "metadata": {
  "kernelspec": {
   "display_name": ".venv",
   "language": "python",
   "name": "python3"
  },
  "language_info": {
   "codemirror_mode": {
    "name": "ipython",
    "version": 3
   },
   "file_extension": ".py",
   "mimetype": "text/x-python",
   "name": "python",
   "nbconvert_exporter": "python",
   "pygments_lexer": "ipython3",
   "version": "3.12.8"
  }
 },
 "nbformat": 4,
 "nbformat_minor": 5
}
