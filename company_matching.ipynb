{
 "cells": [
  {
   "cell_type": "code",
   "execution_count": 1,
   "id": "7bd23c87",
   "metadata": {},
   "outputs": [],
   "source": [
    "from name_matching.generate_embeddings import generate_and_save_embeddings\n",
    "from name_matching.index_to_qdrant import load_embeddings_into_qdrant\n",
    "from name_matching.search_qdrant import query_qdrant"
   ]
  },
  {
   "cell_type": "code",
   "execution_count": 2,
   "id": "c2bdbe9c",
   "metadata": {},
   "outputs": [],
   "source": [
    "# generate_and_save_embeddings()"
   ]
  },
  {
   "cell_type": "code",
   "execution_count": 3,
   "id": "dfd2eff7",
   "metadata": {},
   "outputs": [],
   "source": [
    "# load_embeddings_into_qdrant()"
   ]
  },
  {
   "cell_type": "code",
   "execution_count": 4,
   "id": "d8c7835a",
   "metadata": {},
   "outputs": [
    {
     "name": "stdout",
     "output_type": "stream",
     "text": [
      "\n",
      "🔍 HNSW (Approximate) Results:\n",
      "[HNSW] OpenAI (Index: 18, Score: 0.5155)\n",
      "[HNSW] Stability AI (Index: 21, Score: 0.4822)\n",
      "[HNSW] DeepMind (Index: 20, Score: 0.4684)\n",
      "[HNSW] Google LLC (Index: 2, Score: 0.4255)\n",
      "[HNSW] Alphabet Inc (Index: 3, Score: 0.3895)\n",
      "\n",
      "🧠 Exact Cosine (Brute-force) Results:\n",
      "[Exact] OpenAI (Index: 18, Score: 0.5155)\n",
      "[Exact] Stability AI (Index: 21, Score: 0.4822)\n",
      "[Exact] DeepMind (Index: 20, Score: 0.4684)\n",
      "[Exact] Google LLC (Index: 2, Score: 0.4255)\n",
      "[Exact] Alphabet Inc (Index: 3, Score: 0.3895)\n"
     ]
    },
    {
     "data": {
      "text/plain": [
       "{'hnsw': [ScoredPoint(id=18, version=0, score=0.51552415, payload={'company_name': 'OpenAI', 'index': 18}, vector=None, shard_key=None, order_value=None),\n",
       "  ScoredPoint(id=21, version=0, score=0.48221958, payload={'company_name': 'Stability AI', 'index': 21}, vector=None, shard_key=None, order_value=None),\n",
       "  ScoredPoint(id=20, version=0, score=0.46838313, payload={'company_name': 'DeepMind', 'index': 20}, vector=None, shard_key=None, order_value=None),\n",
       "  ScoredPoint(id=2, version=0, score=0.42546147, payload={'company_name': 'Google LLC', 'index': 2}, vector=None, shard_key=None, order_value=None),\n",
       "  ScoredPoint(id=3, version=0, score=0.38945532, payload={'company_name': 'Alphabet Inc', 'index': 3}, vector=None, shard_key=None, order_value=None)],\n",
       " 'exact': [ScoredPoint(id=18, version=0, score=0.51552415, payload={'company_name': 'OpenAI', 'index': 18}, vector=None, shard_key=None, order_value=None),\n",
       "  ScoredPoint(id=21, version=0, score=0.48221958, payload={'company_name': 'Stability AI', 'index': 21}, vector=None, shard_key=None, order_value=None),\n",
       "  ScoredPoint(id=20, version=0, score=0.46838313, payload={'company_name': 'DeepMind', 'index': 20}, vector=None, shard_key=None, order_value=None),\n",
       "  ScoredPoint(id=2, version=0, score=0.42546147, payload={'company_name': 'Google LLC', 'index': 2}, vector=None, shard_key=None, order_value=None),\n",
       "  ScoredPoint(id=3, version=0, score=0.38945532, payload={'company_name': 'Alphabet Inc', 'index': 3}, vector=None, shard_key=None, order_value=None)]}"
      ]
     },
     "execution_count": 4,
     "metadata": {},
     "output_type": "execute_result"
    }
   ],
   "source": [
    "query_qdrant(\"AI Search Labs\")"
   ]
  },
  {
   "cell_type": "code",
   "execution_count": null,
   "id": "1c02744d",
   "metadata": {},
   "outputs": [
    {
     "name": "stdout",
     "output_type": "stream",
     "text": [
      "\n",
      "🔍 HNSW (Approximate) Results:\n",
      "[HNSW] IBM (Index: 36, Score: 1.0000)\n",
      "[HNSW] International Business Machines Corporation (Index: 37, Score: 0.6468)\n",
      "[HNSW] Intel (Index: 16, Score: 0.5892)\n",
      "[HNSW] AMD (Index: 15, Score: 0.4699)\n",
      "[HNSW] Microsoft Corporation (Index: 1, Score: 0.3775)\n",
      "\n",
      "🧠 Exact Cosine (Brute-force) Results:\n",
      "[Exact] IBM (Index: 36, Score: 1.0000)\n",
      "[Exact] International Business Machines Corporation (Index: 37, Score: 0.6468)\n",
      "[Exact] Intel (Index: 16, Score: 0.5892)\n",
      "[Exact] AMD (Index: 15, Score: 0.4699)\n",
      "[Exact] Microsoft Corporation (Index: 1, Score: 0.3775)\n"
     ]
    },
    {
     "data": {
      "text/plain": [
       "{'hnsw': [ScoredPoint(id=36, version=0, score=1.0000001, payload={'company_name': 'IBM', 'index': 36}, vector=None, shard_key=None, order_value=None),\n",
       "  ScoredPoint(id=37, version=0, score=0.6467892, payload={'company_name': 'International Business Machines Corporation', 'index': 37}, vector=None, shard_key=None, order_value=None),\n",
       "  ScoredPoint(id=16, version=0, score=0.58922565, payload={'company_name': 'Intel', 'index': 16}, vector=None, shard_key=None, order_value=None),\n",
       "  ScoredPoint(id=15, version=0, score=0.4698956, payload={'company_name': 'AMD', 'index': 15}, vector=None, shard_key=None, order_value=None),\n",
       "  ScoredPoint(id=1, version=0, score=0.377477, payload={'company_name': 'Microsoft Corporation', 'index': 1}, vector=None, shard_key=None, order_value=None)],\n",
       " 'exact': [ScoredPoint(id=36, version=0, score=1.0000001, payload={'company_name': 'IBM', 'index': 36}, vector=None, shard_key=None, order_value=None),\n",
       "  ScoredPoint(id=37, version=0, score=0.6467892, payload={'company_name': 'International Business Machines Corporation', 'index': 37}, vector=None, shard_key=None, order_value=None),\n",
       "  ScoredPoint(id=16, version=0, score=0.58922565, payload={'company_name': 'Intel', 'index': 16}, vector=None, shard_key=None, order_value=None),\n",
       "  ScoredPoint(id=15, version=0, score=0.4698956, payload={'company_name': 'AMD', 'index': 15}, vector=None, shard_key=None, order_value=None),\n",
       "  ScoredPoint(id=1, version=0, score=0.377477, payload={'company_name': 'Microsoft Corporation', 'index': 1}, vector=None, shard_key=None, order_value=None)]}"
      ]
     },
     "execution_count": 5,
     "metadata": {},
     "output_type": "execute_result"
    }
   ],
   "source": [
    "query_qdrant(\"IBM\")"
   ]
  },
  {
   "cell_type": "code",
   "execution_count": 6,
   "id": "4b3883fb",
   "metadata": {},
   "outputs": [
    {
     "name": "stdout",
     "output_type": "stream",
     "text": [
      "\n",
      "🔍 HNSW (Approximate) Results:\n",
      "[HNSW] Apple Inc (Index: 0, Score: 0.2988)\n",
      "[HNSW] Trader Joe's (Index: 13, Score: 0.2821)\n",
      "[HNSW] Facebook (Index: 6, Score: 0.2721)\n",
      "[HNSW] Spotify (Index: 33, Score: 0.2592)\n",
      "[HNSW] Whole Foods Market (Index: 12, Score: 0.2578)\n",
      "\n",
      "🧠 Exact Cosine (Brute-force) Results:\n",
      "[Exact] Apple Inc (Index: 0, Score: 0.2988)\n",
      "[Exact] Trader Joe's (Index: 13, Score: 0.2821)\n",
      "[Exact] Facebook (Index: 6, Score: 0.2721)\n",
      "[Exact] Spotify (Index: 33, Score: 0.2592)\n",
      "[Exact] Whole Foods Market (Index: 12, Score: 0.2578)\n"
     ]
    },
    {
     "data": {
      "text/plain": [
       "{'hnsw': [ScoredPoint(id=0, version=0, score=0.29878134, payload={'company_name': 'Apple Inc', 'index': 0}, vector=None, shard_key=None, order_value=None),\n",
       "  ScoredPoint(id=13, version=0, score=0.28206313, payload={'company_name': \"Trader Joe's\", 'index': 13}, vector=None, shard_key=None, order_value=None),\n",
       "  ScoredPoint(id=6, version=0, score=0.2721176, payload={'company_name': 'Facebook', 'index': 6}, vector=None, shard_key=None, order_value=None),\n",
       "  ScoredPoint(id=33, version=0, score=0.25920033, payload={'company_name': 'Spotify', 'index': 33}, vector=None, shard_key=None, order_value=None),\n",
       "  ScoredPoint(id=12, version=0, score=0.2577924, payload={'company_name': 'Whole Foods Market', 'index': 12}, vector=None, shard_key=None, order_value=None)],\n",
       " 'exact': [ScoredPoint(id=0, version=0, score=0.29878134, payload={'company_name': 'Apple Inc', 'index': 0}, vector=None, shard_key=None, order_value=None),\n",
       "  ScoredPoint(id=13, version=0, score=0.28206313, payload={'company_name': \"Trader Joe's\", 'index': 13}, vector=None, shard_key=None, order_value=None),\n",
       "  ScoredPoint(id=6, version=0, score=0.2721176, payload={'company_name': 'Facebook', 'index': 6}, vector=None, shard_key=None, order_value=None),\n",
       "  ScoredPoint(id=33, version=0, score=0.25920033, payload={'company_name': 'Spotify', 'index': 33}, vector=None, shard_key=None, order_value=None),\n",
       "  ScoredPoint(id=12, version=0, score=0.2577924, payload={'company_name': 'Whole Foods Market', 'index': 12}, vector=None, shard_key=None, order_value=None)]}"
      ]
     },
     "execution_count": 6,
     "metadata": {},
     "output_type": "execute_result"
    }
   ],
   "source": [
    "query_qdrant(\"fruit\")"
   ]
  }
 ],
 "metadata": {
  "kernelspec": {
   "display_name": ".venv",
   "language": "python",
   "name": "python3"
  },
  "language_info": {
   "codemirror_mode": {
    "name": "ipython",
    "version": 3
   },
   "file_extension": ".py",
   "mimetype": "text/x-python",
   "name": "python",
   "nbconvert_exporter": "python",
   "pygments_lexer": "ipython3",
   "version": "3.12.8"
  }
 },
 "nbformat": 4,
 "nbformat_minor": 5
}
