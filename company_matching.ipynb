{
 "cells": [
  {
   "cell_type": "code",
   "execution_count": 1,
   "id": "7bd23c87",
   "metadata": {},
   "outputs": [],
   "source": [
    "from name_matching.generate_embeddings import generate_and_save_embeddings\n",
    "from name_matching.index_to_qdrant import load_embeddings_into_qdrant\n",
    "from name_matching.search_qdrant import query_qdrant"
   ]
  },
  {
   "cell_type": "code",
   "execution_count": null,
   "id": "c2bdbe9c",
   "metadata": {},
   "outputs": [
    {
     "name": "stdout",
     "output_type": "stream",
     "text": [
      "Processed 1/38: Apple Inc\n",
      "Processed 2/38: Microsoft Corporation\n",
      "Processed 3/38: Google LLC\n",
      "Processed 4/38: Alphabet Inc\n",
      "Processed 5/38: Amazon.com, Inc\n",
      "Processed 6/38: Meta Platforms\n",
      "Processed 7/38: Facebook\n",
      "Processed 8/38: Tesla Motors\n",
      "Processed 9/38: SpaceX\n",
      "Processed 10/38: Walmart\n",
      "Processed 11/38: Target\n",
      "Processed 12/38: Costco\n",
      "Processed 13/38: Whole Foods Market\n",
      "Processed 14/38: Trader Joe's\n",
      "Processed 15/38: Nvidia\n",
      "Processed 16/38: AMD\n",
      "Processed 17/38: Intel\n",
      "Processed 18/38: TSMC\n",
      "Processed 19/38: OpenAI\n",
      "Processed 20/38: Anthropic\n",
      "Processed 21/38: DeepMind\n",
      "Processed 22/38: Stability AI\n",
      "Processed 23/38: McDonald's\n",
      "Processed 24/38: Burger King\n",
      "Processed 25/38: KFC\n",
      "Processed 26/38: Subway\n",
      "Processed 27/38: Delta Airlines\n",
      "Processed 28/38: American Airlines\n",
      "Processed 29/38: United Airlines\n",
      "Processed 30/38: Bank of America\n",
      "Processed 31/38: Wells Fargo\n",
      "Processed 32/38: JPMorgan Chase\n",
      "Processed 33/38: Goldman Sachs\n",
      "Processed 34/38: Spotify\n",
      "Processed 35/38: SoundCloud\n",
      "Processed 36/38: YouTube Music\n",
      "Processed 37/38: IBM\n",
      "Processed 38/38: International Business Machines Corporation\n",
      "Processed 38 companies. Saved to data/company_embeddings.json\n"
     ]
    },
    {
     "data": {
      "text/plain": [
       "'DONE'"
      ]
     },
     "execution_count": 3,
     "metadata": {},
     "output_type": "execute_result"
    }
   ],
   "source": [
    "# generate_and_save_embeddings()"
   ]
  },
  {
   "cell_type": "code",
   "execution_count": 2,
   "id": "dfd2eff7",
   "metadata": {},
   "outputs": [
    {
     "name": "stdout",
     "output_type": "stream",
     "text": [
      "Loaded 38 embeddings into Qdrant\n"
     ]
    },
    {
     "data": {
      "text/plain": [
       "'DONE'"
      ]
     },
     "execution_count": 2,
     "metadata": {},
     "output_type": "execute_result"
    }
   ],
   "source": [
    "load_embeddings_into_qdrant()"
   ]
  },
  {
   "cell_type": "code",
   "execution_count": 3,
   "id": "d8c7835a",
   "metadata": {},
   "outputs": [
    {
     "name": "stdout",
     "output_type": "stream",
     "text": [
      "OpenAI: 0.51552415\n",
      "Stability AI: 0.48221958\n",
      "DeepMind: 0.46838313\n",
      "Google LLC: 0.42546147\n",
      "Alphabet Inc: 0.38945532\n"
     ]
    },
    {
     "data": {
      "text/plain": [
       "[ScoredPoint(id=18, version=0, score=0.51552415, payload={'company_name': 'OpenAI', 'index': 18}, vector=None, shard_key=None, order_value=None),\n",
       " ScoredPoint(id=21, version=0, score=0.48221958, payload={'company_name': 'Stability AI', 'index': 21}, vector=None, shard_key=None, order_value=None),\n",
       " ScoredPoint(id=20, version=0, score=0.46838313, payload={'company_name': 'DeepMind', 'index': 20}, vector=None, shard_key=None, order_value=None),\n",
       " ScoredPoint(id=2, version=0, score=0.42546147, payload={'company_name': 'Google LLC', 'index': 2}, vector=None, shard_key=None, order_value=None),\n",
       " ScoredPoint(id=3, version=0, score=0.38945532, payload={'company_name': 'Alphabet Inc', 'index': 3}, vector=None, shard_key=None, order_value=None)]"
      ]
     },
     "execution_count": 3,
     "metadata": {},
     "output_type": "execute_result"
    }
   ],
   "source": [
    "query_qdrant(\"AI Search Labs\")"
   ]
  },
  {
   "cell_type": "code",
   "execution_count": 4,
   "id": "1c02744d",
   "metadata": {},
   "outputs": [
    {
     "name": "stdout",
     "output_type": "stream",
     "text": [
      "IBM: 1.0000001\n",
      "International Business Machines Corporation: 0.6467892\n",
      "Intel: 0.58922565\n",
      "AMD: 0.4698956\n",
      "Microsoft Corporation: 0.377477\n"
     ]
    },
    {
     "data": {
      "text/plain": [
       "[ScoredPoint(id=36, version=0, score=1.0000001, payload={'company_name': 'IBM', 'index': 36}, vector=None, shard_key=None, order_value=None),\n",
       " ScoredPoint(id=37, version=0, score=0.6467892, payload={'company_name': 'International Business Machines Corporation', 'index': 37}, vector=None, shard_key=None, order_value=None),\n",
       " ScoredPoint(id=16, version=0, score=0.58922565, payload={'company_name': 'Intel', 'index': 16}, vector=None, shard_key=None, order_value=None),\n",
       " ScoredPoint(id=15, version=0, score=0.4698956, payload={'company_name': 'AMD', 'index': 15}, vector=None, shard_key=None, order_value=None),\n",
       " ScoredPoint(id=1, version=0, score=0.377477, payload={'company_name': 'Microsoft Corporation', 'index': 1}, vector=None, shard_key=None, order_value=None)]"
      ]
     },
     "execution_count": 4,
     "metadata": {},
     "output_type": "execute_result"
    }
   ],
   "source": [
    "query_qdrant(\"IBM\")"
   ]
  },
  {
   "cell_type": "code",
   "execution_count": null,
   "id": "4b3883fb",
   "metadata": {},
   "outputs": [],
   "source": []
  }
 ],
 "metadata": {
  "kernelspec": {
   "display_name": ".venv",
   "language": "python",
   "name": "python3"
  },
  "language_info": {
   "codemirror_mode": {
    "name": "ipython",
    "version": 3
   },
   "file_extension": ".py",
   "mimetype": "text/x-python",
   "name": "python",
   "nbconvert_exporter": "python",
   "pygments_lexer": "ipython3",
   "version": "3.12.8"
  }
 },
 "nbformat": 4,
 "nbformat_minor": 5
}
