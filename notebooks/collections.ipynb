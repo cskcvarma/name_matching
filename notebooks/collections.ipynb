{
 "cells": [
  {
   "cell_type": "code",
   "execution_count": null,
   "id": "5f7add7a",
   "metadata": {},
   "outputs": [
    {
     "data": {
      "text/plain": [
       "['names']"
      ]
     },
     "execution_count": 1,
     "metadata": {},
     "output_type": "execute_result"
    }
   ],
   "source": [
    "from name_matching.db import ChromaDB\n",
    "\n",
    "ChromaDB().list_collections()\n"
   ]
  },
  {
   "cell_type": "code",
   "execution_count": 2,
   "id": "29fce1de",
   "metadata": {},
   "outputs": [
    {
     "data": {
      "text/plain": [
       "[]"
      ]
     },
     "execution_count": 2,
     "metadata": {},
     "output_type": "execute_result"
    }
   ],
   "source": [
    "ChromaDB('names').list_documents()"
   ]
  },
  {
   "cell_type": "code",
   "execution_count": null,
   "id": "11c1decf",
   "metadata": {},
   "outputs": [],
   "source": []
  }
 ],
 "metadata": {
  "kernelspec": {
   "display_name": ".venv",
   "language": "python",
   "name": "python3"
  },
  "language_info": {
   "codemirror_mode": {
    "name": "ipython",
    "version": 3
   },
   "file_extension": ".py",
   "mimetype": "text/x-python",
   "name": "python",
   "nbconvert_exporter": "python",
   "pygments_lexer": "ipython3",
   "version": "3.12.8"
  }
 },
 "nbformat": 4,
 "nbformat_minor": 5
}
